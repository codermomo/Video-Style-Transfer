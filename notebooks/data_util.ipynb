{
 "cells": [
  {
   "cell_type": "markdown",
   "metadata": {},
   "source": [
    "# Rename files"
   ]
  },
  {
   "cell_type": "code",
   "execution_count": 1,
   "metadata": {},
   "outputs": [],
   "source": [
    "import os\n",
    "\n",
    "os.chdir(\"../data/content\")\n",
    "for i, file in enumerate(os.listdir(\".\")):\n",
    "    os.rename(file, str(i + 1) + \".\" + file.split(\".\")[-1])"
   ]
  },
  {
   "cell_type": "markdown",
   "metadata": {},
   "source": [
    "# Extract frames from video"
   ]
  },
  {
   "cell_type": "code",
   "execution_count": 7,
   "metadata": {},
   "outputs": [
    {
     "name": "stdout",
     "output_type": "stream",
     "text": [
      "1.mp4 426\n",
      "10.mp4 351\n",
      "11.mp4 385\n",
      "12.mp4 736\n",
      "13.mp4 750\n",
      "14.mp4 328\n",
      "15.mp4 169\n",
      "16.mp4 326\n",
      "2.mp4 398\n",
      "3.mp4 298\n",
      "4.mp4 564\n",
      "5.mp4 264\n",
      "6.mp4 294\n",
      "7.mp4 255\n",
      "8.mp4 488\n",
      "9.mp4 776\n",
      "frames 0\n"
     ]
    }
   ],
   "source": [
    "import cv2\n",
    "\n",
    "if not os.path.exists(\"./frames\"):\n",
    "    os.mkdir(\"./frames\")\n",
    "\n",
    "output_path = \"./frames\"\n",
    "\n",
    "for i, file in enumerate(os.listdir(\".\")):\n",
    "    vidcap = cv2.VideoCapture(file)\n",
    "    success, frame = vidcap.read()\n",
    "    frame_count = 0\n",
    "    while success:\n",
    "        frame_count += 1\n",
    "        \n",
    "        prefix = file.split(\".\")[0]\n",
    "        extension = \".jpg\"\n",
    "        output_filename = prefix + \"_\" + str(frame_count) + extension\n",
    "        cv2.imwrite(os.path.join(output_path, output_filename), frame)\n",
    "\n",
    "        success, frame = vidcap.read()\n",
    "    \n",
    "    print(file, frame_count)"
   ]
  },
  {
   "cell_type": "markdown",
   "metadata": {},
   "source": []
  }
 ],
 "metadata": {
  "kernelspec": {
   "display_name": "Python 3.7.13 ('comp4211')",
   "language": "python",
   "name": "python3"
  },
  "language_info": {
   "codemirror_mode": {
    "name": "ipython",
    "version": 3
   },
   "file_extension": ".py",
   "mimetype": "text/x-python",
   "name": "python",
   "nbconvert_exporter": "python",
   "pygments_lexer": "ipython3",
   "version": "3.7.13"
  },
  "orig_nbformat": 4,
  "vscode": {
   "interpreter": {
    "hash": "86eed01215236029f71f7f21210a998c6b81e57bfa046489375962dd2cec26ce"
   }
  }
 },
 "nbformat": 4,
 "nbformat_minor": 2
}
